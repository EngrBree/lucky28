{
 "cells": [
  {
   "cell_type": "code",
   "execution_count": 9,
   "metadata": {},
   "outputs": [],
   "source": [
    "import pandas as pd\n",
    "import torch\n",
    "import torch.nn as nn\n",
    "import torch.optim as optim\n",
    "import time\n",
    "import matplotlib.pyplot as plt\n",
    "from sklearn.model_selection import train_test_split\n",
    "from sklearn.preprocessing import StandardScaler\n",
    "from sklearn.preprocessing import LabelEncoder\n",
    "\n"
   ]
  },
  {
   "cell_type": "markdown",
   "metadata": {},
   "source": [
    "FEATURE ENGINEERING\n",
    " "
   ]
  },
  {
   "cell_type": "code",
   "execution_count": 2,
   "metadata": {},
   "outputs": [],
   "source": [
    "# Load dataset\n",
    "def load_data(file_path):\n",
    "    df = pd.read_csv('newlucky28.csv')  \n",
    "    df['code'] = df['code'].apply(eval)  # Convert string to list\n",
    "    df['num1'] = df['code'].apply(lambda x: int(x[0]))\n",
    "    df['num2'] = df['code'].apply(lambda x: int(x[1]))\n",
    "    df['num3'] = df['code'].apply(lambda x: int(x[2]))\n",
    "    df['sum'] = df['num1'] + df['num2'] + df['num3']\n",
    "    df['odd_even'] = df['sum'] % 2  # 0 = Even, 1 = Odd\n",
    "    df['big_small'] = (df['sum'] >= 14).astype(int)  # 0 = Small, 1 = Big\n",
    "    \n",
    "    # Feature Engineering (Rolling Mean and Lag Features)\n",
    "    df['rolling_sum_mean'] = df['sum'].rolling(window=3, min_periods=1).mean()\n",
    "    df['lag1_sum'] = df['sum'].shift(1)\n",
    "    df['lag1_odd_even'] = df['odd_even'].shift(1)\n",
    "    df['lag1_big_small'] = df['big_small'].shift(1)\n",
    "\n",
    "    return df[['num1', 'num2', 'num3', 'sum', 'rolling_sum_mean', 'lag1_sum', 'odd_even', 'big_small', 'lag1_odd_even', 'lag1_big_small']]\n"
   ]
  },
  {
   "cell_type": "code",
   "execution_count": 3,
   "metadata": {},
   "outputs": [],
   "source": [
    "data_file = \"newlucky28.csv\"  # Change this to your actual CSV file\n",
    "df = load_data(data_file)"
   ]
  },
  {
   "cell_type": "code",
   "execution_count": 4,
   "metadata": {},
   "outputs": [],
   "source": [
    "# Split dataset (80% Train, 20% Test ensuring 100 draws in test set)\n",
    "test_size = max(0.2, 100 / len(df))  # Ensure test set has at least 100 draws\n",
    "train_df, test_df = train_test_split(df, test_size=test_size, random_state=42, shuffle=False)"
   ]
  },
  {
   "cell_type": "code",
   "execution_count": 5,
   "metadata": {},
   "outputs": [],
   "source": [
    "# Scale numerical features\n",
    "scaler = StandardScaler()\n",
    "numerical_features = ['sum', 'rolling_sum_mean', 'lag1_sum']\n",
    "train_df[numerical_features] = scaler.fit_transform(train_df[numerical_features])\n",
    "test_df[numerical_features] = scaler.transform(test_df[numerical_features])\n"
   ]
  },
  {
   "cell_type": "code",
   "execution_count": 10,
   "metadata": {},
   "outputs": [],
   "source": [
    "encoder = LabelEncoder()\n",
    "categorical_features = ['odd_even', 'big_small', 'lag1_odd_even', 'lag1_big_small']\n",
    "for col in categorical_features:\n",
    "    train_df[col] = encoder.fit_transform(train_df[col])\n",
    "    test_df[col] = encoder.transform(test_df[col])\n"
   ]
  },
  {
   "cell_type": "code",
   "execution_count": 11,
   "metadata": {},
   "outputs": [],
   "source": [
    "\n",
    "# Store processed datasets\n",
    "train_df.to_csv(\"train.csv\", index=False)\n",
    "test_df.to_csv(\"test.csv\", index=False)\n"
   ]
  }
 ],
 "metadata": {
  "kernelspec": {
   "display_name": "venv",
   "language": "python",
   "name": "python3"
  },
  "language_info": {
   "codemirror_mode": {
    "name": "ipython",
    "version": 3
   },
   "file_extension": ".py",
   "mimetype": "text/x-python",
   "name": "python",
   "nbconvert_exporter": "python",
   "pygments_lexer": "ipython3",
   "version": "3.13.1"
  }
 },
 "nbformat": 4,
 "nbformat_minor": 2
}
